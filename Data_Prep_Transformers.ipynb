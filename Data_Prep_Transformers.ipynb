{
  "nbformat": 4,
  "nbformat_minor": 0,
  "metadata": {
    "colab": {
      "name": "video_classification.ipynb",
      "provenance": [],
      "collapsed_sections": [],
      "machine_shape": "hm",
      "mount_file_id": "https://github.com/sayakpaul/Action-Recognition-in-TensorFlow/blob/main/Data_Prep_Transformers.ipynb",
      "authorship_tag": "ABX9TyMTY5SgMHiSWEDPKEv+NTT7",
      "include_colab_link": true
    },
    "kernelspec": {
      "name": "python3",
      "display_name": "Python 3"
    },
    "language_info": {
      "name": "python"
    },
    "accelerator": "GPU"
  },
  "cells": [
    {
      "cell_type": "markdown",
      "metadata": {
        "id": "view-in-github",
        "colab_type": "text"
      },
      "source": [
        "<a href=\"https://colab.research.google.com/github/sayakpaul/Action-Recognition-in-TensorFlow/blob/main/Data_Prep_Transformers.ipynb\" target=\"_parent\"><img src=\"https://colab.research.google.com/assets/colab-badge.svg\" alt=\"Open In Colab\"/></a>"
      ]
    },
    {
      "cell_type": "markdown",
      "metadata": {
        "id": "l8ZDSWk3TqX9"
      },
      "source": [
        "## Data collection\n",
        "\n",
        "In order to keep the runtime of this example relatively short, we will be using a subsampled version of the original UCF101 dataset. You can refer to [this notebook](https://github.com/sayakpaul/Action-Recognition-in-TensorFlow/blob/main/Data_Preparation_UCF101.ipynb) to know how the subsampling was done. "
      ]
    },
    {
      "cell_type": "code",
      "metadata": {
        "id": "uaIsRk-Cy8Fr"
      },
      "source": [
        "!wget -q https://git.io/JGc31 -O ucf101_top5.tar.gz\n",
        "!tar xf ucf101_top5.tar.gz"
      ],
      "execution_count": 1,
      "outputs": []
    },
    {
      "cell_type": "markdown",
      "metadata": {
        "id": "JA4azW2ATsc1"
      },
      "source": [
        "## Setup"
      ]
    },
    {
      "cell_type": "code",
      "metadata": {
        "id": "ASNYUVHCuwFp"
      },
      "source": [
        "from tensorflow import keras\n",
        "\n",
        "import tensorflow as tf\n",
        "import pandas as pd \n",
        "import numpy as np\n",
        "import cv2\n",
        "import os"
      ],
      "execution_count": 2,
      "outputs": []
    },
    {
      "cell_type": "markdown",
      "metadata": {
        "id": "3XlVLSl4TuHW"
      },
      "source": [
        "## Define hyperparameters"
      ]
    },
    {
      "cell_type": "code",
      "metadata": {
        "id": "36965nYbwLmX"
      },
      "source": [
        "IMG_SIZE = 128\n",
        "MAX_SEQ_LENGTH = 20\n",
        "NUM_FEATURES = 1024"
      ],
      "execution_count": 3,
      "outputs": []
    },
    {
      "cell_type": "markdown",
      "metadata": {
        "id": "GWw29TqsT0uT"
      },
      "source": [
        "## Data preparation"
      ]
    },
    {
      "cell_type": "code",
      "metadata": {
        "colab": {
          "base_uri": "https://localhost:8080/"
        },
        "id": "GPQ5feZ3zwzB",
        "outputId": "1102e8c2-2792-45d3-a3b8-9f754b011c31"
      },
      "source": [
        "train_df = pd.read_csv(\"train.csv\")\n",
        "test_df = pd.read_csv(\"test.csv\")\n",
        "\n",
        "print(f\"Total videos for training: {len(train_df)}\")\n",
        "print(f\"Total videos for testing: {len(test_df)}\")"
      ],
      "execution_count": 4,
      "outputs": [
        {
          "output_type": "stream",
          "text": [
            "Total videos for training: 594\n",
            "Total videos for testing: 224\n"
          ],
          "name": "stdout"
        }
      ]
    },
    {
      "cell_type": "code",
      "metadata": {
        "colab": {
          "base_uri": "https://localhost:8080/",
          "height": 359
        },
        "id": "qBFLKe-Iz_Cp",
        "outputId": "6e0b0756-17db-44ac-d4ec-2cecf48656ab"
      },
      "source": [
        "train_df.sample(10)"
      ],
      "execution_count": 5,
      "outputs": [
        {
          "output_type": "execute_result",
          "data": {
            "text/html": [
              "<div>\n",
              "<style scoped>\n",
              "    .dataframe tbody tr th:only-of-type {\n",
              "        vertical-align: middle;\n",
              "    }\n",
              "\n",
              "    .dataframe tbody tr th {\n",
              "        vertical-align: top;\n",
              "    }\n",
              "\n",
              "    .dataframe thead th {\n",
              "        text-align: right;\n",
              "    }\n",
              "</style>\n",
              "<table border=\"1\" class=\"dataframe\">\n",
              "  <thead>\n",
              "    <tr style=\"text-align: right;\">\n",
              "      <th></th>\n",
              "      <th>video_name</th>\n",
              "      <th>tag</th>\n",
              "    </tr>\n",
              "  </thead>\n",
              "  <tbody>\n",
              "    <tr>\n",
              "      <th>77</th>\n",
              "      <td>v_CricketShot_g19_c04.avi</td>\n",
              "      <td>CricketShot</td>\n",
              "    </tr>\n",
              "    <tr>\n",
              "      <th>444</th>\n",
              "      <td>v_ShavingBeard_g21_c02.avi</td>\n",
              "      <td>ShavingBeard</td>\n",
              "    </tr>\n",
              "    <tr>\n",
              "      <th>464</th>\n",
              "      <td>v_ShavingBeard_g24_c01.avi</td>\n",
              "      <td>ShavingBeard</td>\n",
              "    </tr>\n",
              "    <tr>\n",
              "      <th>63</th>\n",
              "      <td>v_CricketShot_g17_c01.avi</td>\n",
              "      <td>CricketShot</td>\n",
              "    </tr>\n",
              "    <tr>\n",
              "      <th>352</th>\n",
              "      <td>v_Punch_g25_c01.avi</td>\n",
              "      <td>Punch</td>\n",
              "    </tr>\n",
              "    <tr>\n",
              "      <th>236</th>\n",
              "      <td>v_PlayingCello_g25_c06.avi</td>\n",
              "      <td>PlayingCello</td>\n",
              "    </tr>\n",
              "    <tr>\n",
              "      <th>535</th>\n",
              "      <td>v_TennisSwing_g16_c04.avi</td>\n",
              "      <td>TennisSwing</td>\n",
              "    </tr>\n",
              "    <tr>\n",
              "      <th>246</th>\n",
              "      <td>v_Punch_g09_c02.avi</td>\n",
              "      <td>Punch</td>\n",
              "    </tr>\n",
              "    <tr>\n",
              "      <th>68</th>\n",
              "      <td>v_CricketShot_g17_c06.avi</td>\n",
              "      <td>CricketShot</td>\n",
              "    </tr>\n",
              "    <tr>\n",
              "      <th>546</th>\n",
              "      <td>v_TennisSwing_g18_c01.avi</td>\n",
              "      <td>TennisSwing</td>\n",
              "    </tr>\n",
              "  </tbody>\n",
              "</table>\n",
              "</div>"
            ],
            "text/plain": [
              "                     video_name           tag\n",
              "77    v_CricketShot_g19_c04.avi   CricketShot\n",
              "444  v_ShavingBeard_g21_c02.avi  ShavingBeard\n",
              "464  v_ShavingBeard_g24_c01.avi  ShavingBeard\n",
              "63    v_CricketShot_g17_c01.avi   CricketShot\n",
              "352         v_Punch_g25_c01.avi         Punch\n",
              "236  v_PlayingCello_g25_c06.avi  PlayingCello\n",
              "535   v_TennisSwing_g16_c04.avi   TennisSwing\n",
              "246         v_Punch_g09_c02.avi         Punch\n",
              "68    v_CricketShot_g17_c06.avi   CricketShot\n",
              "546   v_TennisSwing_g18_c01.avi   TennisSwing"
            ]
          },
          "metadata": {
            "tags": []
          },
          "execution_count": 5
        }
      ]
    },
    {
      "cell_type": "code",
      "metadata": {
        "id": "9HLXWv4hzDSH"
      },
      "source": [
        "center_crop_layer = keras.layers.experimental.preprocessing.CenterCrop(IMG_SIZE, IMG_SIZE)\n",
        "\n",
        "def crop_center(frame):\n",
        "    cropped = center_crop_layer(frame[None, ...])\n",
        "    cropped = cropped.numpy().squeeze()\n",
        "    return cropped\n",
        "\n",
        "# Following method is modified from this tutorial:\n",
        "# https://www.tensorflow.org/hub/tutorials/action_recognition_with_tf_hub\n",
        "def load_video(path, max_frames=0):\n",
        "    cap = cv2.VideoCapture(path)\n",
        "    frames = []\n",
        "    try:\n",
        "        while True:\n",
        "            ret, frame = cap.read()\n",
        "            if not ret:\n",
        "                break\n",
        "            frame = crop_center(frame)\n",
        "            frame = frame[:, :, [2, 1, 0]]\n",
        "            frames.append(frame)\n",
        "\n",
        "            if len(frames) == max_frames:\n",
        "                break\n",
        "    finally:\n",
        "        cap.release()\n",
        "    return np.array(frames)"
      ],
      "execution_count": 6,
      "outputs": []
    },
    {
      "cell_type": "code",
      "metadata": {
        "id": "2DAc3uQmsyGH",
        "outputId": "434abe18-a548-4ac1-ed32-63d4fb9fae4c",
        "colab": {
          "base_uri": "https://localhost:8080/"
        }
      },
      "source": [
        "def build_feature_extractor():\n",
        "    feature_extractor = keras.applications.DenseNet121(weights=\"imagenet\", \n",
        "                                                       include_top=False, pooling=\"avg\",\n",
        "                                                       input_shape=(IMG_SIZE, IMG_SIZE, 3))\n",
        "    preprocess_input = keras.applications.densenet.preprocess_input\n",
        "\n",
        "    inputs = keras.Input((IMG_SIZE, IMG_SIZE, 3))\n",
        "    preprocessed = preprocess_input(inputs)\n",
        "\n",
        "    outputs = feature_extractor(preprocessed)\n",
        "    return keras.Model(inputs, outputs, name=\"feature_extractor\")\n",
        "\n",
        "feature_extractor = build_feature_extractor()"
      ],
      "execution_count": 7,
      "outputs": [
        {
          "output_type": "stream",
          "text": [
            "Downloading data from https://storage.googleapis.com/tensorflow/keras-applications/densenet/densenet121_weights_tf_dim_ordering_tf_kernels_notop.h5\n",
            "29089792/29084464 [==============================] - 0s 0us/step\n"
          ],
          "name": "stdout"
        }
      ]
    },
    {
      "cell_type": "code",
      "metadata": {
        "id": "M_WHgBm6VWt6",
        "colab": {
          "base_uri": "https://localhost:8080/"
        },
        "outputId": "02c9deb2-7dd8-4692-fec8-b00827c4e396"
      },
      "source": [
        "label_processor = keras.layers.experimental.preprocessing.StringLookup(\n",
        "    num_oov_indices=0, vocabulary=np.unique(train_df[\"tag\"]),  mask_token=None\n",
        ")\n",
        "print(label_processor.get_vocabulary())"
      ],
      "execution_count": 8,
      "outputs": [
        {
          "output_type": "stream",
          "text": [
            "['CricketShot', 'PlayingCello', 'Punch', 'ShavingBeard', 'TennisSwing']\n"
          ],
          "name": "stdout"
        }
      ]
    },
    {
      "cell_type": "code",
      "metadata": {
        "id": "-E_zksdrZ2AZ"
      },
      "source": [
        "def prepare_all_videos(df, root_dir):\n",
        "    num_samples = len(df)\n",
        "    video_paths = df[\"video_name\"].values.tolist()\n",
        "    labels = df[\"tag\"].values\n",
        "    labels = label_processor(labels[..., None]).numpy()\n",
        "    \n",
        "    # `frame_features` are what we will feed to our sequence model.\n",
        "    frame_features = np.zeros(shape=(num_samples, MAX_SEQ_LENGTH, NUM_FEATURES),\n",
        "                                dtype=\"float32\")\n",
        "    \n",
        "    # For each video.\n",
        "    for idx, path in enumerate(video_paths):\n",
        "        # Gather all its frames and add a batch dimension.\n",
        "        frames = load_video(os.path.join(root_dir, path))\n",
        "        \n",
        "        # Pad shorter videos.\n",
        "        if len(frames) < MAX_SEQ_LENGTH:\n",
        "            diff = MAX_SEQ_LENGTH - len(frames)\n",
        "            padding = np.zeros((diff, IMG_SIZE, IMG_SIZE, 3))\n",
        "            frames = np.concatenate(frames, padding)\n",
        "\n",
        "        frames = frames[None, ...]\n",
        "        \n",
        "        # Initialize placeholder to store the features of the current video. \n",
        "        temp_frame_featutes = np.zeros(shape=(1, MAX_SEQ_LENGTH, NUM_FEATURES),\n",
        "                                dtype=\"float32\")\n",
        "        \n",
        "        # Extract features from the frames of the current video. \n",
        "        for i, batch in enumerate(frames):  \n",
        "            video_length = batch.shape[1]\n",
        "            length = min(MAX_SEQ_LENGTH, video_length)  \n",
        "            for j in range(length):\n",
        "                if np.mean(batch[j, :]) > 0.0:\n",
        "                    temp_frame_featutes[i, j, :] = feature_extractor.predict(batch[None, j, :])  \n",
        "                else:\n",
        "                    temp_frame_featutes[i, j, :] = 0.0\n",
        "\n",
        "        frame_features[idx, ] = temp_frame_featutes.squeeze()\n",
        "\n",
        "    return frame_features, labels"
      ],
      "execution_count": 9,
      "outputs": []
    },
    {
      "cell_type": "code",
      "metadata": {
        "id": "qWBXUZaNeK9H",
        "colab": {
          "base_uri": "https://localhost:8080/"
        },
        "outputId": "1c5254c1-f9f3-4d8e-a77a-1b8563665214"
      },
      "source": [
        "train_data, train_labels = prepare_all_videos(train_df, \"train\")\n",
        "test_data, test_labels = prepare_all_videos(test_df, \"test\")\n",
        "\n",
        "print(f\"Frame features in train set: {train_data.shape}\")"
      ],
      "execution_count": 10,
      "outputs": [
        {
          "output_type": "stream",
          "text": [
            "Frame features in train set: (594, 20, 1024)\n"
          ],
          "name": "stdout"
        }
      ]
    },
    {
      "cell_type": "markdown",
      "metadata": {
        "id": "ZjbMB4V5mEsU"
      },
      "source": [
        "The above code block will take ~20 minutes to execute depending on the machine it's being executed. "
      ]
    },
    {
      "cell_type": "markdown",
      "metadata": {
        "id": "GFXAw6gn4CcX"
      },
      "source": [
        "## Serialize data for later use"
      ]
    },
    {
      "cell_type": "code",
      "metadata": {
        "id": "KvEER0n_35eB"
      },
      "source": [
        "np.save(\"train_data.npy\", train_data, fix_imports=True, allow_pickle=False)\n",
        "np.save(\"train_labels.npy\", train_labels, fix_imports=True, allow_pickle=False)\n",
        "np.save(\"test_data.npy\", test_data, fix_imports=True, allow_pickle=False)\n",
        "np.save(\"test_labels.npy\", test_labels, fix_imports=True, allow_pickle=False)"
      ],
      "execution_count": 11,
      "outputs": []
    },
    {
      "cell_type": "code",
      "metadata": {
        "id": "r63LD7Y-61Lr"
      },
      "source": [
        "!tar cf top5_data_prepared.tar.gz train_data.npy train_labels.npy test_data.npy test_labels.npy"
      ],
      "execution_count": 12,
      "outputs": []
    },
    {
      "cell_type": "code",
      "metadata": {
        "id": "nBKNlnmF7KoE"
      },
      "source": [
        "!cp top5_data_prepared.tar.gz /content/drive/MyDrive"
      ],
      "execution_count": 13,
      "outputs": []
    }
  ]
}